# Testing out the Binder environment.
for i in range(1,101):
    if i%3!=0 and i%5!=0: print(i)
    if i%3==0 and i%5!=0: print("\t\tbif")
    if i%3!=0 and i%5==0: print("\t\t\t\tbof")
    if i%3==0 and i%5==0: print("\t\t    bifbof!!")
