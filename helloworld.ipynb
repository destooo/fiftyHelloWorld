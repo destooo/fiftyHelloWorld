{
 "cells": [
  {
   "cell_type": "markdown",
   "metadata": {},
   "source": [
    "# Fifty HelloWorld\n",
    "#### Test Programming with binders\n",
    "* Ok, so this is a jupyter notebook, so if you want to run stuff you'll need to download this and open it, for which you might need https://www.anaconda.com/download/ \n",
    "* To run the examples, click in the box and press ctrl+enter. \n",
    "* Each numbered section is independently runnable unless otherwise noted.(For sections with multiple boxes you might have to run the parts above it for it to work.) \n",
    "* If things break or get weird, try kernel -> restart & clear output\n",
    "\n",
    "# 1: The Obvious\n",
    "\n",
    "The first way that came to mind would be to do it in order like you play the game: for each number"
   ]
  }
